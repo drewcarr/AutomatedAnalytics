{
 "cells": [
  {
   "cell_type": "code",
   "execution_count": null,
   "metadata": {},
   "outputs": [],
   "source": [
    "from openai import OpenAI\n",
    "import json\n",
    "import os\n",
    "from dotenv import load_dotenv\n",
    "\n",
    "load_dotenv()\n",
    "\n",
    "api_key = os.getenv(\"OPEN_AI_KEY\")  # Replace with your actual OpenAI API key\n",
    "client = OpenAI(api_key=api_key)\n",
    "\n",
    "project_agent_creation_agent_id = \"asst_mhrbxqgPluw4ca0fdlj7LnME\""
   ]
  },
  {
   "cell_type": "code",
   "execution_count": null,
   "metadata": {},
   "outputs": [],
   "source": [
    "with open(\"project_outline.md\", \"r\") as file:\n",
    "    project_text = file.read()"
   ]
  },
  {
   "cell_type": "code",
   "execution_count": null,
   "metadata": {},
   "outputs": [],
   "source": [
    "thread = client.beta.threads.create(\n",
    "  messages=[\n",
    "    {\n",
    "      \"role\": \"user\",\n",
    "      \"content\": f\"Here is a project outline:\\n {project_text}\",\n",
    "    }\n",
    "  ]\n",
    ")\n",
    "print(thread.id)"
   ]
  },
  {
   "cell_type": "code",
   "execution_count": null,
   "metadata": {},
   "outputs": [],
   "source": [
    "run = client.beta.threads.runs.create(\n",
    "  thread_id=thread.id,\n",
    "  assistant_id=project_agent_creation_agent_id\n",
    ")"
   ]
  },
  {
   "cell_type": "code",
   "execution_count": null,
   "metadata": {},
   "outputs": [],
   "source": [
    "run_status = client.beta.threads.runs.retrieve(run_id=run.id, thread_id=thread.id,)\n",
    "print(run_status.status)"
   ]
  },
  {
   "cell_type": "code",
   "execution_count": null,
   "metadata": {},
   "outputs": [],
   "source": [
    "messages = client.beta.threads.messages.list(thread_id=thread.id)\n",
    "print(messages)"
   ]
  },
  {
   "cell_type": "code",
   "execution_count": null,
   "metadata": {},
   "outputs": [],
   "source": [
    "message_str = messages.data[0].content[0].text.value"
   ]
  },
  {
   "cell_type": "code",
   "execution_count": null,
   "metadata": {},
   "outputs": [],
   "source": [
    "import re\n",
    "\n",
    "def save_code_from_markdown(filename, markdown_content) -> str:\n",
    "    # Regular expression to find code blocks and the specified language\n",
    "    code_block_pattern = re.compile(r\"```(\\w+?)\\n(.*?)```\", re.DOTALL)\n",
    "\n",
    "    # Find all code blocks\n",
    "    code_blocks = code_block_pattern.findall(markdown_content)\n",
    "\n",
    "    if not code_blocks:\n",
    "        print(\"No code blocks found.\")\n",
    "        return\n",
    "\n",
    "    for index, (language, code) in enumerate(code_blocks):\n",
    "        # Map language to file extensions (you might need to expand this dictionary)\n",
    "        file_extension_map = {\n",
    "            \"python\": \".py\",\n",
    "            \"javascript\": \".js\",\n",
    "            \"html\": \".html\",\n",
    "            \"css\": \".css\",\n",
    "            \"json\": \".json\",\n",
    "            \n",
    "        }\n",
    "\n",
    "        # Determine the file extension\n",
    "        file_extension = file_extension_map.get(language.lower(), \".txt\")\n",
    "\n",
    "        # Create a file name (you might want to customize this)\n",
    "        file_name = f\"{filename}_{index}{file_extension}\"\n",
    "\n",
    "        # Save the file\n",
    "        with open(file_name, \"w\") as file:\n",
    "            file.write(code)\n",
    "            print(f\"Saved {file_name}\")\n",
    "        \n",
    "        return file_name\n"
   ]
  },
  {
   "cell_type": "code",
   "execution_count": null,
   "metadata": {},
   "outputs": [],
   "source": [
    "filename = save_code_from_markdown(\"agents\", message_str)\n",
    "with open(filename, \"r\") as file:\n",
    "    agent_schema = json.loads(file.read())"
   ]
  },
  {
   "cell_type": "code",
   "execution_count": null,
   "metadata": {},
   "outputs": [],
   "source": [
    "print(agent_schema)"
   ]
  },
  {
   "cell_type": "code",
   "execution_count": null,
   "metadata": {},
   "outputs": [],
   "source": [
    "import time\n",
    "## The agent_schema is an array of objects with name and description, loop through them\n",
    "function_schema_agent = \"asst_8OE299p4LW8yWpRt4Aq1lD8p\"\n",
    "new_agent_schema = []\n",
    "for obj in agent_schema:\n",
    "    print(obj)\n",
    "    print(obj['name'])\n",
    "    print(obj['description'])\n",
    "\n",
    "    agent_name = obj['name']\n",
    "    thread = client.beta.threads.create(\n",
    "        messages=[\n",
    "            {\n",
    "                \"role\": \"user\",\n",
    "                \"content\": f\"Create a function schema for {obj['name']} trying to achieve {obj['description']}\",\n",
    "            }\n",
    "        ]\n",
    "    )\n",
    "\n",
    "    run = client.beta.threads.runs.create(\n",
    "        thread_id=thread.id,\n",
    "        assistant_id=function_schema_agent\n",
    "    )\n",
    "\n",
    "    run_status = \"in_progress\"\n",
    "    while run_status != \"completed\":\n",
    "        ## sleep a second\n",
    "        time.sleep(2)\n",
    "        run_status = client.beta.threads.runs.retrieve(run_id=run.id, thread_id=thread.id,).status\n",
    "        print(f\"{agent_name}: {run_status}\")\n",
    "\n",
    "    messages = client.beta.threads.messages.list(thread_id=thread.id)\n",
    "    print(messages)\n",
    "\n",
    "    message_str = messages.data[0].content[0].text.value\n",
    "    print(message_str)\n",
    "\n",
    "    filename = save_code_from_markdown(\"function_schema\", message_str)\n",
    "    with open(filename, \"r\") as file:\n",
    "        function_definition = json.loads(file.read())\n",
    "\n",
    "    obj[\"tools\"] = function_definition\n",
    "    new_agent_schema.append(obj)\n",
    "    with open(\"new_agent_schema.json\", \"w\") as file:\n",
    "        file.write(json.dumps(new_agent_schema))\n",
    "\n",
    "    print(agent_schema)"
   ]
  },
  {
   "cell_type": "code",
   "execution_count": null,
   "metadata": {},
   "outputs": [],
   "source": [
    "## Loop through each agent in the new schema and create code blocks for each function specified. Save the code blocks to a file in a folder named after the agent\n",
    "import os\n",
    "function_code_writer_agent = \"asst_jMKQiATQEqBEuRBmaSB6zD6s\"\n",
    "for agent in new_agent_schema:\n",
    "    agent_name = agent['name']\n",
    "    os.mkdir(agent_name)\n",
    "    for function in agent['tools']:\n",
    "        function_name = function[\"function\"]['name']\n",
    "\n",
    "        thread = client.beta.threads.create(\n",
    "        messages=[\n",
    "                {\n",
    "                    \"role\": \"user\",\n",
    "                    \"content\": f\"Here is the function schema for {function_name} :\\n {json.dumps(function)}\",\n",
    "                }\n",
    "            ]\n",
    "        )\n",
    "\n",
    "        run = client.beta.threads.runs.create(\n",
    "            thread_id=thread.id,\n",
    "            assistant_id=function_code_writer_agent\n",
    "        )\n",
    "\n",
    "        run_status = \"in_progress\"\n",
    "        while run_status != \"completed\":\n",
    "            ## sleep a second\n",
    "            time.sleep(2)\n",
    "            run_status = client.beta.threads.runs.retrieve(run_id=run.id, thread_id=thread.id,).status\n",
    "            print(f\"{agent_name}: {run_status}\")\n",
    "\n",
    "        messages = client.beta.threads.messages.list(thread_id=thread.id)\n",
    "        print(messages)\n",
    "\n",
    "        message_str = messages.data[0].content[0].text.value\n",
    "        print(message_str)\n",
    "\n",
    "        filename = f\"{agent_name}/{function_name}.json\"\n",
    "        save_code_from_markdown(filename, message_str)"
   ]
  }
 ],
 "metadata": {
  "kernelspec": {
   "display_name": "Python 3",
   "language": "python",
   "name": "python3"
  },
  "language_info": {
   "codemirror_mode": {
    "name": "ipython",
    "version": 3
   },
   "file_extension": ".py",
   "mimetype": "text/x-python",
   "name": "python",
   "nbconvert_exporter": "python",
   "pygments_lexer": "ipython3",
   "version": "3.11.8"
  }
 },
 "nbformat": 4,
 "nbformat_minor": 2
}
